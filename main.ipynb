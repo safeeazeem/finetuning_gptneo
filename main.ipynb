{
 "cells": [
  {
   "cell_type": "code",
   "execution_count": 25,
   "source": [
    "import pandas as pd \r\n",
    "import seaborn as sns\r\n",
    "import matplotlib.pyplot as plt\r\n",
    "from transformers import AutoTokenizer, AutoModelForCausalLM, GPTNeoForCausalLM\r\n",
    "sns.set_style('whitegrid')\r\n",
    "from sklearn.utils import shuffle\r\n"
   ],
   "outputs": [],
   "metadata": {}
  },
  {
   "cell_type": "code",
   "execution_count": 11,
   "source": [
    "# !git clone https://huggingface.co/EleutherAI/gpt-neo-125M"
   ],
   "outputs": [
    {
     "output_type": "stream",
     "name": "stderr",
     "text": [
      "Cloning into 'gpt-neo-125M'...\n",
      "Filtering content:  66% (2/3), 979.25 MiB | 214.84 MiB/s\n",
      "Filtering content:  66% (2/3), 1.44 GiB | 226.29 MiB/s  \n",
      "Filtering content: 100% (3/3), 1.44 GiB | 226.29 MiB/s\n",
      "Filtering content: 100% (3/3), 1.44 GiB | 40.79 MiB/s, done.\n"
     ]
    }
   ],
   "metadata": {}
  },
  {
   "cell_type": "code",
   "execution_count": 2,
   "source": [
    "# Download model\r\n",
    "model = 'gpt-neo-125M'\r\n",
    "tokenizer = AutoTokenizer.from_pretrained(model)\r\n",
    "# tokenizer = AutoTokenizer.from_pretrained(model)\r\n",
    "model = GPTNeoForCausalLM.from_pretrained(model)"
   ],
   "outputs": [],
   "metadata": {}
  },
  {
   "cell_type": "code",
   "execution_count": 3,
   "source": [
    "data = pd.read_json(\"quotes.json\")"
   ],
   "outputs": [],
   "metadata": {}
  },
  {
   "cell_type": "code",
   "execution_count": 4,
   "source": [
    "data.head()"
   ],
   "outputs": [
    {
     "output_type": "execute_result",
     "data": {
      "text/html": [
       "<div>\n",
       "<style scoped>\n",
       "    .dataframe tbody tr th:only-of-type {\n",
       "        vertical-align: middle;\n",
       "    }\n",
       "\n",
       "    .dataframe tbody tr th {\n",
       "        vertical-align: top;\n",
       "    }\n",
       "\n",
       "    .dataframe thead th {\n",
       "        text-align: right;\n",
       "    }\n",
       "</style>\n",
       "<table border=\"1\" class=\"dataframe\">\n",
       "  <thead>\n",
       "    <tr style=\"text-align: right;\">\n",
       "      <th></th>\n",
       "      <th>Quote</th>\n",
       "      <th>Author</th>\n",
       "      <th>Tags</th>\n",
       "      <th>Popularity</th>\n",
       "      <th>Category</th>\n",
       "    </tr>\n",
       "  </thead>\n",
       "  <tbody>\n",
       "    <tr>\n",
       "      <th>0</th>\n",
       "      <td>Don't cry because it's over, smile because it ...</td>\n",
       "      <td>Dr. Seuss</td>\n",
       "      <td>[attributed-no-source, cry, crying, experience...</td>\n",
       "      <td>0.155666</td>\n",
       "      <td>life</td>\n",
       "    </tr>\n",
       "    <tr>\n",
       "      <th>1</th>\n",
       "      <td>Don't cry because it's over, smile because it ...</td>\n",
       "      <td>Dr. Seuss</td>\n",
       "      <td>[attributed-no-source, cry, crying, experience...</td>\n",
       "      <td>0.155666</td>\n",
       "      <td>happiness</td>\n",
       "    </tr>\n",
       "    <tr>\n",
       "      <th>2</th>\n",
       "      <td>I'm selfish, impatient and a little insecure. ...</td>\n",
       "      <td>Marilyn Monroe</td>\n",
       "      <td>[attributed-no-source, best, life, love, mista...</td>\n",
       "      <td>0.129122</td>\n",
       "      <td>love</td>\n",
       "    </tr>\n",
       "    <tr>\n",
       "      <th>3</th>\n",
       "      <td>I'm selfish, impatient and a little insecure. ...</td>\n",
       "      <td>Marilyn Monroe</td>\n",
       "      <td>[attributed-no-source, best, life, love, mista...</td>\n",
       "      <td>0.129122</td>\n",
       "      <td>life</td>\n",
       "    </tr>\n",
       "    <tr>\n",
       "      <th>4</th>\n",
       "      <td>I'm selfish, impatient and a little insecure. ...</td>\n",
       "      <td>Marilyn Monroe</td>\n",
       "      <td>[attributed-no-source, best, life, love, mista...</td>\n",
       "      <td>0.129122</td>\n",
       "      <td>truth</td>\n",
       "    </tr>\n",
       "  </tbody>\n",
       "</table>\n",
       "</div>"
      ],
      "text/plain": [
       "                                               Quote          Author  \\\n",
       "0  Don't cry because it's over, smile because it ...       Dr. Seuss   \n",
       "1  Don't cry because it's over, smile because it ...       Dr. Seuss   \n",
       "2  I'm selfish, impatient and a little insecure. ...  Marilyn Monroe   \n",
       "3  I'm selfish, impatient and a little insecure. ...  Marilyn Monroe   \n",
       "4  I'm selfish, impatient and a little insecure. ...  Marilyn Monroe   \n",
       "\n",
       "                                                Tags  Popularity   Category  \n",
       "0  [attributed-no-source, cry, crying, experience...    0.155666       life  \n",
       "1  [attributed-no-source, cry, crying, experience...    0.155666  happiness  \n",
       "2  [attributed-no-source, best, life, love, mista...    0.129122       love  \n",
       "3  [attributed-no-source, best, life, love, mista...    0.129122       life  \n",
       "4  [attributed-no-source, best, life, love, mista...    0.129122      truth  "
      ]
     },
     "metadata": {},
     "execution_count": 4
    }
   ],
   "metadata": {}
  },
  {
   "cell_type": "code",
   "execution_count": 11,
   "source": [
    "data.info()"
   ],
   "outputs": [
    {
     "output_type": "stream",
     "name": "stdout",
     "text": [
      "<class 'pandas.core.frame.DataFrame'>\n",
      "RangeIndex: 48391 entries, 0 to 48390\n",
      "Data columns (total 5 columns):\n",
      " #   Column      Non-Null Count  Dtype  \n",
      "---  ------      --------------  -----  \n",
      " 0   Quote       48391 non-null  object \n",
      " 1   Author      48391 non-null  object \n",
      " 2   Tags        48391 non-null  object \n",
      " 3   Popularity  48391 non-null  float64\n",
      " 4   Category    48391 non-null  object \n",
      "dtypes: float64(1), object(4)\n",
      "memory usage: 1.8+ MB\n"
     ]
    }
   ],
   "metadata": {}
  },
  {
   "cell_type": "code",
   "execution_count": 6,
   "source": [
    "plt.figure(figsize=(12,8))\r\n",
    "sns.histplot(data['Quote'].apply(lambda x:len(x.split())),bins=20,kde=True)"
   ],
   "outputs": [
    {
     "output_type": "execute_result",
     "data": {
      "text/plain": [
       "<AxesSubplot:xlabel='Quote', ylabel='Count'>"
      ]
     },
     "metadata": {},
     "execution_count": 6
    },
    {
     "output_type": "display_data",
     "data": {
      "image/png": "[encoded data removed]",
      "text/plain": [
       "<Figure size 864x576 with 1 Axes>"
      ]
     },
     "metadata": {}
    }
   ],
   "metadata": {}
  },
  {
   "cell_type": "code",
   "execution_count": 4,
   "source": [
    "data['Category'].unique()"
   ],
   "outputs": [
    {
     "output_type": "execute_result",
     "data": {
      "text/plain": [
       "array(['life', 'happiness', 'love', 'truth', 'inspiration', 'humor',\n",
       "       'philosophy', 'science', '', 'soul', 'books', 'wisdom',\n",
       "       'knowledge', 'education', 'poetry', 'hope', 'friendship',\n",
       "       'writing', 'religion', 'death', 'romance', 'success', 'arts',\n",
       "       'relationship', 'motivation', 'faith', 'mind', 'god', 'funny',\n",
       "       'quotes', 'positive', 'purpose'], dtype=object)"
      ]
     },
     "metadata": {},
     "execution_count": 4
    }
   ],
   "metadata": {}
  },
  {
   "cell_type": "code",
   "execution_count": 7,
   "source": [
    "empty = data[data['Category']==\"\"]\r\n",
    "quotes = data[data['Category']!=\"\"]"
   ],
   "outputs": [],
   "metadata": {}
  },
  {
   "cell_type": "code",
   "execution_count": 22,
   "source": [
    "empty.head()"
   ],
   "outputs": [
    {
     "output_type": "execute_result",
     "data": {
      "text/html": [
       "<div>\n",
       "<style scoped>\n",
       "    .dataframe tbody tr th:only-of-type {\n",
       "        vertical-align: middle;\n",
       "    }\n",
       "\n",
       "    .dataframe tbody tr th {\n",
       "        vertical-align: top;\n",
       "    }\n",
       "\n",
       "    .dataframe thead th {\n",
       "        text-align: right;\n",
       "    }\n",
       "</style>\n",
       "<table border=\"1\" class=\"dataframe\">\n",
       "  <thead>\n",
       "    <tr style=\"text-align: right;\">\n",
       "      <th></th>\n",
       "      <th>Quote</th>\n",
       "      <th>Author</th>\n",
       "      <th>Tags</th>\n",
       "      <th>Popularity</th>\n",
       "      <th>Category</th>\n",
       "    </tr>\n",
       "  </thead>\n",
       "  <tbody>\n",
       "    <tr>\n",
       "      <th>9</th>\n",
       "      <td>Be who you are and say what you feel, because ...</td>\n",
       "      <td>Bernard M. Baruch</td>\n",
       "      <td>[ataraxy, be-yourself, confidence, fitting-in,...</td>\n",
       "      <td>0.101890</td>\n",
       "      <td></td>\n",
       "    </tr>\n",
       "    <tr>\n",
       "      <th>23</th>\n",
       "      <td>Friendship ... is born at the moment when one ...</td>\n",
       "      <td>C.S. Lewis,  The Four Loves</td>\n",
       "      <td>[friendship ]</td>\n",
       "      <td>0.073322</td>\n",
       "      <td></td>\n",
       "    </tr>\n",
       "    <tr>\n",
       "      <th>24</th>\n",
       "      <td>If you want to know what a man's like, take a ...</td>\n",
       "      <td>J.K. Rowling,  Harry Potter and the Goblet of ...</td>\n",
       "      <td>[from-charles-bayard-miliken, misattributed-j-...</td>\n",
       "      <td>0.072186</td>\n",
       "      <td></td>\n",
       "    </tr>\n",
       "    <tr>\n",
       "      <th>25</th>\n",
       "      <td>Don’t walk in front of me… I may not followDon...</td>\n",
       "      <td>Albert Camus</td>\n",
       "      <td>[friends, friendship, misattributed-albert-cam...</td>\n",
       "      <td>0.071550</td>\n",
       "      <td></td>\n",
       "    </tr>\n",
       "    <tr>\n",
       "      <th>31</th>\n",
       "      <td>Always forgive your enemies; nothing annoys th...</td>\n",
       "      <td>Oscar Wilde</td>\n",
       "      <td>[attributed-no-source, enemies, forgiveness, s...</td>\n",
       "      <td>0.061497</td>\n",
       "      <td></td>\n",
       "    </tr>\n",
       "  </tbody>\n",
       "</table>\n",
       "</div>"
      ],
      "text/plain": [
       "                                                Quote  \\\n",
       "9   Be who you are and say what you feel, because ...   \n",
       "23  Friendship ... is born at the moment when one ...   \n",
       "24  If you want to know what a man's like, take a ...   \n",
       "25  Don’t walk in front of me… I may not followDon...   \n",
       "31  Always forgive your enemies; nothing annoys th...   \n",
       "\n",
       "                                               Author  \\\n",
       "9                                   Bernard M. Baruch   \n",
       "23                        C.S. Lewis,  The Four Loves   \n",
       "24  J.K. Rowling,  Harry Potter and the Goblet of ...   \n",
       "25                                       Albert Camus   \n",
       "31                                        Oscar Wilde   \n",
       "\n",
       "                                                 Tags  Popularity Category  \n",
       "9   [ataraxy, be-yourself, confidence, fitting-in,...    0.101890           \n",
       "23                                      [friendship ]    0.073322           \n",
       "24  [from-charles-bayard-miliken, misattributed-j-...    0.072186           \n",
       "25  [friends, friendship, misattributed-albert-cam...    0.071550           \n",
       "31  [attributed-no-source, enemies, forgiveness, s...    0.061497           "
      ]
     },
     "metadata": {},
     "execution_count": 22
    }
   ],
   "metadata": {}
  },
  {
   "cell_type": "code",
   "execution_count": 23,
   "source": [
    "empty[\"Quote\"].iloc[2]"
   ],
   "outputs": [
    {
     "output_type": "execute_result",
     "data": {
      "text/plain": [
       "\"If you want to know what a man's like, take a good look at how he treats his inferiors, not his equals.\""
      ]
     },
     "metadata": {},
     "execution_count": 23
    }
   ],
   "metadata": {}
  },
  {
   "cell_type": "code",
   "execution_count": 12,
   "source": [
    "quotes.head()"
   ],
   "outputs": [
    {
     "output_type": "execute_result",
     "data": {
      "text/html": [
       "<div>\n",
       "<style scoped>\n",
       "    .dataframe tbody tr th:only-of-type {\n",
       "        vertical-align: middle;\n",
       "    }\n",
       "\n",
       "    .dataframe tbody tr th {\n",
       "        vertical-align: top;\n",
       "    }\n",
       "\n",
       "    .dataframe thead th {\n",
       "        text-align: right;\n",
       "    }\n",
       "</style>\n",
       "<table border=\"1\" class=\"dataframe\">\n",
       "  <thead>\n",
       "    <tr style=\"text-align: right;\">\n",
       "      <th></th>\n",
       "      <th>Quote</th>\n",
       "      <th>Author</th>\n",
       "      <th>Tags</th>\n",
       "      <th>Popularity</th>\n",
       "      <th>Category</th>\n",
       "    </tr>\n",
       "  </thead>\n",
       "  <tbody>\n",
       "    <tr>\n",
       "      <th>0</th>\n",
       "      <td>Don't cry because it's over, smile because it ...</td>\n",
       "      <td>Dr. Seuss</td>\n",
       "      <td>[attributed-no-source, cry, crying, experience...</td>\n",
       "      <td>0.155666</td>\n",
       "      <td>life</td>\n",
       "    </tr>\n",
       "    <tr>\n",
       "      <th>1</th>\n",
       "      <td>Don't cry because it's over, smile because it ...</td>\n",
       "      <td>Dr. Seuss</td>\n",
       "      <td>[attributed-no-source, cry, crying, experience...</td>\n",
       "      <td>0.155666</td>\n",
       "      <td>happiness</td>\n",
       "    </tr>\n",
       "    <tr>\n",
       "      <th>2</th>\n",
       "      <td>I'm selfish, impatient and a little insecure. ...</td>\n",
       "      <td>Marilyn Monroe</td>\n",
       "      <td>[attributed-no-source, best, life, love, mista...</td>\n",
       "      <td>0.129122</td>\n",
       "      <td>love</td>\n",
       "    </tr>\n",
       "    <tr>\n",
       "      <th>3</th>\n",
       "      <td>I'm selfish, impatient and a little insecure. ...</td>\n",
       "      <td>Marilyn Monroe</td>\n",
       "      <td>[attributed-no-source, best, life, love, mista...</td>\n",
       "      <td>0.129122</td>\n",
       "      <td>life</td>\n",
       "    </tr>\n",
       "    <tr>\n",
       "      <th>4</th>\n",
       "      <td>I'm selfish, impatient and a little insecure. ...</td>\n",
       "      <td>Marilyn Monroe</td>\n",
       "      <td>[attributed-no-source, best, life, love, mista...</td>\n",
       "      <td>0.129122</td>\n",
       "      <td>truth</td>\n",
       "    </tr>\n",
       "  </tbody>\n",
       "</table>\n",
       "</div>"
      ],
      "text/plain": [
       "                                               Quote          Author  \\\n",
       "0  Don't cry because it's over, smile because it ...       Dr. Seuss   \n",
       "1  Don't cry because it's over, smile because it ...       Dr. Seuss   \n",
       "2  I'm selfish, impatient and a little insecure. ...  Marilyn Monroe   \n",
       "3  I'm selfish, impatient and a little insecure. ...  Marilyn Monroe   \n",
       "4  I'm selfish, impatient and a little insecure. ...  Marilyn Monroe   \n",
       "\n",
       "                                                Tags  Popularity   Category  \n",
       "0  [attributed-no-source, cry, crying, experience...    0.155666       life  \n",
       "1  [attributed-no-source, cry, crying, experience...    0.155666  happiness  \n",
       "2  [attributed-no-source, best, life, love, mista...    0.129122       love  \n",
       "3  [attributed-no-source, best, life, love, mista...    0.129122       life  \n",
       "4  [attributed-no-source, best, life, love, mista...    0.129122      truth  "
      ]
     },
     "metadata": {},
     "execution_count": 12
    }
   ],
   "metadata": {}
  },
  {
   "cell_type": "code",
   "execution_count": 8,
   "source": [
    "plt.figure(figsize=(18, 10))\r\n",
    "plt.title(\"Classes Distribution\")\r\n",
    "sns.countplot(quotes['Category'])\r\n",
    "plt.xticks(rotation=45)"
   ],
   "outputs": [
    {
     "output_type": "stream",
     "name": "stderr",
     "text": [
      "C:\\Python37\\lib\\site-packages\\seaborn\\_decorators.py:43: FutureWarning: Pass the following variable as a keyword arg: x. From version 0.12, the only valid positional argument will be `data`, and passing other arguments without an explicit keyword will result in an error or misinterpretation.\n",
      "  FutureWarning\n"
     ]
    },
    {
     "output_type": "execute_result",
     "data": {
      "text/plain": [
       "(array([ 0,  1,  2,  3,  4,  5,  6,  7,  8,  9, 10, 11, 12, 13, 14, 15, 16,\n",
       "        17, 18, 19, 20, 21, 22, 23, 24, 25, 26, 27, 28, 29, 30]),\n",
       " [Text(0, 0, 'life'),\n",
       "  Text(1, 0, 'happiness'),\n",
       "  Text(2, 0, 'love'),\n",
       "  Text(3, 0, 'truth'),\n",
       "  Text(4, 0, 'inspiration'),\n",
       "  Text(5, 0, 'humor'),\n",
       "  Text(6, 0, 'philosophy'),\n",
       "  Text(7, 0, 'science'),\n",
       "  Text(8, 0, 'soul'),\n",
       "  Text(9, 0, 'books'),\n",
       "  Text(10, 0, 'wisdom'),\n",
       "  Text(11, 0, 'knowledge'),\n",
       "  Text(12, 0, 'education'),\n",
       "  Text(13, 0, 'poetry'),\n",
       "  Text(14, 0, 'hope'),\n",
       "  Text(15, 0, 'friendship'),\n",
       "  Text(16, 0, 'writing'),\n",
       "  Text(17, 0, 'religion'),\n",
       "  Text(18, 0, 'death'),\n",
       "  Text(19, 0, 'romance'),\n",
       "  Text(20, 0, 'success'),\n",
       "  Text(21, 0, 'arts'),\n",
       "  Text(22, 0, 'relationship'),\n",
       "  Text(23, 0, 'motivation'),\n",
       "  Text(24, 0, 'faith'),\n",
       "  Text(25, 0, 'mind'),\n",
       "  Text(26, 0, 'god'),\n",
       "  Text(27, 0, 'funny'),\n",
       "  Text(28, 0, 'quotes'),\n",
       "  Text(29, 0, 'positive'),\n",
       "  Text(30, 0, 'purpose')])"
      ]
     },
     "metadata": {},
     "execution_count": 8
    },
    {
     "output_type": "display_data",
     "data": {
      "image/png": "[encoded data removed]",
      "text/plain": [
       "<Figure size 1296x720 with 1 Axes>"
      ]
     },
     "metadata": {}
    }
   ],
   "metadata": {}
  },
  {
   "cell_type": "code",
   "execution_count": 57,
   "source": [
    "# Only going with humor, insipiration, love, life \r\n",
    "life = quotes[(quotes['Category'] =='life')]\r\n",
    "love = quotes[(quotes['Category'] =='love')] \r\n",
    "humor = quotes[(quotes['Category'] =='humor')] \r\n",
    "inspiration = quotes[(quotes['Category'] =='inspiration')]"
   ],
   "outputs": [],
   "metadata": {}
  },
  {
   "cell_type": "code",
   "execution_count": 58,
   "source": [
    "final_data = pd.concat([life, love, humor, inspiration])\r\n",
    "# inspiration.head()"
   ],
   "outputs": [],
   "metadata": {}
  },
  {
   "cell_type": "code",
   "execution_count": 59,
   "source": [
    "final_data= shuffle(final_data)"
   ],
   "outputs": [],
   "metadata": {}
  },
  {
   "cell_type": "code",
   "execution_count": 62,
   "source": [
    "len(final_data)"
   ],
   "outputs": [
    {
     "output_type": "execute_result",
     "data": {
      "text/plain": [
       "16570"
      ]
     },
     "metadata": {},
     "execution_count": 62
    }
   ],
   "metadata": {}
  },
  {
   "cell_type": "code",
   "execution_count": 63,
   "source": [
    "from sklearn import preprocessing\r\n",
    "le = preprocessing.LabelEncoder()\r\n",
    "final_data['cat_lab']=le.fit_transform(final_data['Category'])"
   ],
   "outputs": [],
   "metadata": {}
  },
  {
   "cell_type": "code",
   "execution_count": 64,
   "source": [
    "final_data.to_csv('final_data.csv')"
   ],
   "outputs": [],
   "metadata": {}
  },
  {
   "cell_type": "code",
   "execution_count": 45,
   "source": [
    "df = pd.read_csv('final_data.csv')"
   ],
   "outputs": [],
   "metadata": {}
  },
  {
   "cell_type": "code",
   "execution_count": 46,
   "source": [
    "df.head()"
   ],
   "outputs": [
    {
     "output_type": "execute_result",
     "data": {
      "text/html": [
       "<div>\n",
       "<style scoped>\n",
       "    .dataframe tbody tr th:only-of-type {\n",
       "        vertical-align: middle;\n",
       "    }\n",
       "\n",
       "    .dataframe tbody tr th {\n",
       "        vertical-align: top;\n",
       "    }\n",
       "\n",
       "    .dataframe thead th {\n",
       "        text-align: right;\n",
       "    }\n",
       "</style>\n",
       "<table border=\"1\" class=\"dataframe\">\n",
       "  <thead>\n",
       "    <tr style=\"text-align: right;\">\n",
       "      <th></th>\n",
       "      <th>Unnamed: 0</th>\n",
       "      <th>Quote</th>\n",
       "      <th>Author</th>\n",
       "      <th>Tags</th>\n",
       "      <th>Popularity</th>\n",
       "      <th>Category</th>\n",
       "    </tr>\n",
       "  </thead>\n",
       "  <tbody>\n",
       "    <tr>\n",
       "      <th>0</th>\n",
       "      <td>18479</td>\n",
       "      <td>If my favorite three letters are X, Z, and Q, ...</td>\n",
       "      <td>Jarod Kintz,  Xazaqazax</td>\n",
       "      <td>['absurd', 'favorite-letters', 'humor', 'langu...</td>\n",
       "      <td>0.000257</td>\n",
       "      <td>love</td>\n",
       "    </tr>\n",
       "    <tr>\n",
       "      <th>1</th>\n",
       "      <td>39562</td>\n",
       "      <td>S is for SCARY! Fear is driven out by action! ...</td>\n",
       "      <td>Lucas Remmerswaal,  The A-Z of 13 Habits: Insp...</td>\n",
       "      <td>['action', 'attitude', 'fear', 'habits', 'insp...</td>\n",
       "      <td>0.000010</td>\n",
       "      <td>inspiration</td>\n",
       "    </tr>\n",
       "    <tr>\n",
       "      <th>2</th>\n",
       "      <td>14022</td>\n",
       "      <td>What's the whole point of being pretty on the ...</td>\n",
       "      <td>Jess C. Scott,  I'm Pretty</td>\n",
       "      <td>['celebrity', 'celebrity-culture', 'celebrity-...</td>\n",
       "      <td>0.000436</td>\n",
       "      <td>humor</td>\n",
       "    </tr>\n",
       "    <tr>\n",
       "      <th>3</th>\n",
       "      <td>13369</td>\n",
       "      <td>Let me never fall into the vulgar mistake of d...</td>\n",
       "      <td>Ralph Waldo Emerson,  Emerson in His Journals</td>\n",
       "      <td>['contradiction', 'correcting', 'correction', ...</td>\n",
       "      <td>0.000492</td>\n",
       "      <td>inspiration</td>\n",
       "    </tr>\n",
       "    <tr>\n",
       "      <th>4</th>\n",
       "      <td>29891</td>\n",
       "      <td>Love and compassion are the mother and father ...</td>\n",
       "      <td>Steve Maraboli,  Life, the Truth, and Being Free</td>\n",
       "      <td>['compassion', 'happiness', 'inspirational', '...</td>\n",
       "      <td>0.000065</td>\n",
       "      <td>inspiration</td>\n",
       "    </tr>\n",
       "  </tbody>\n",
       "</table>\n",
       "</div>"
      ],
      "text/plain": [
       "   Unnamed: 0                                              Quote  \\\n",
       "0       18479  If my favorite three letters are X, Z, and Q, ...   \n",
       "1       39562  S is for SCARY! Fear is driven out by action! ...   \n",
       "2       14022  What's the whole point of being pretty on the ...   \n",
       "3       13369  Let me never fall into the vulgar mistake of d...   \n",
       "4       29891  Love and compassion are the mother and father ...   \n",
       "\n",
       "                                              Author  \\\n",
       "0                            Jarod Kintz,  Xazaqazax   \n",
       "1  Lucas Remmerswaal,  The A-Z of 13 Habits: Insp...   \n",
       "2                         Jess C. Scott,  I'm Pretty   \n",
       "3      Ralph Waldo Emerson,  Emerson in His Journals   \n",
       "4   Steve Maraboli,  Life, the Truth, and Being Free   \n",
       "\n",
       "                                                Tags  Popularity     Category  \n",
       "0  ['absurd', 'favorite-letters', 'humor', 'langu...    0.000257         love  \n",
       "1  ['action', 'attitude', 'fear', 'habits', 'insp...    0.000010  inspiration  \n",
       "2  ['celebrity', 'celebrity-culture', 'celebrity-...    0.000436        humor  \n",
       "3  ['contradiction', 'correcting', 'correction', ...    0.000492  inspiration  \n",
       "4  ['compassion', 'happiness', 'inspirational', '...    0.000065  inspiration  "
      ]
     },
     "metadata": {},
     "execution_count": 46
    }
   ],
   "metadata": {}
  },
  {
   "cell_type": "code",
   "execution_count": 49,
   "source": [
    "from sklearn import preprocessing\r\n",
    "le = preprocessing.LabelEncoder()\r\n",
    "df['cat_lab']=le.fit_transform(df['Category'])"
   ],
   "outputs": [],
   "metadata": {}
  },
  {
   "cell_type": "code",
   "execution_count": 50,
   "source": [
    "df.head()"
   ],
   "outputs": [
    {
     "output_type": "execute_result",
     "data": {
      "text/html": [
       "<div>\n",
       "<style scoped>\n",
       "    .dataframe tbody tr th:only-of-type {\n",
       "        vertical-align: middle;\n",
       "    }\n",
       "\n",
       "    .dataframe tbody tr th {\n",
       "        vertical-align: top;\n",
       "    }\n",
       "\n",
       "    .dataframe thead th {\n",
       "        text-align: right;\n",
       "    }\n",
       "</style>\n",
       "<table border=\"1\" class=\"dataframe\">\n",
       "  <thead>\n",
       "    <tr style=\"text-align: right;\">\n",
       "      <th></th>\n",
       "      <th>Unnamed: 0</th>\n",
       "      <th>Quote</th>\n",
       "      <th>Author</th>\n",
       "      <th>Tags</th>\n",
       "      <th>Popularity</th>\n",
       "      <th>Category</th>\n",
       "      <th>cat_lab</th>\n",
       "    </tr>\n",
       "  </thead>\n",
       "  <tbody>\n",
       "    <tr>\n",
       "      <th>0</th>\n",
       "      <td>18479</td>\n",
       "      <td>If my favorite three letters are X, Z, and Q, ...</td>\n",
       "      <td>Jarod Kintz,  Xazaqazax</td>\n",
       "      <td>['absurd', 'favorite-letters', 'humor', 'langu...</td>\n",
       "      <td>0.000257</td>\n",
       "      <td>love</td>\n",
       "      <td>3</td>\n",
       "    </tr>\n",
       "    <tr>\n",
       "      <th>1</th>\n",
       "      <td>39562</td>\n",
       "      <td>S is for SCARY! Fear is driven out by action! ...</td>\n",
       "      <td>Lucas Remmerswaal,  The A-Z of 13 Habits: Insp...</td>\n",
       "      <td>['action', 'attitude', 'fear', 'habits', 'insp...</td>\n",
       "      <td>0.000010</td>\n",
       "      <td>inspiration</td>\n",
       "      <td>1</td>\n",
       "    </tr>\n",
       "    <tr>\n",
       "      <th>2</th>\n",
       "      <td>14022</td>\n",
       "      <td>What's the whole point of being pretty on the ...</td>\n",
       "      <td>Jess C. Scott,  I'm Pretty</td>\n",
       "      <td>['celebrity', 'celebrity-culture', 'celebrity-...</td>\n",
       "      <td>0.000436</td>\n",
       "      <td>humor</td>\n",
       "      <td>0</td>\n",
       "    </tr>\n",
       "    <tr>\n",
       "      <th>3</th>\n",
       "      <td>13369</td>\n",
       "      <td>Let me never fall into the vulgar mistake of d...</td>\n",
       "      <td>Ralph Waldo Emerson,  Emerson in His Journals</td>\n",
       "      <td>['contradiction', 'correcting', 'correction', ...</td>\n",
       "      <td>0.000492</td>\n",
       "      <td>inspiration</td>\n",
       "      <td>1</td>\n",
       "    </tr>\n",
       "    <tr>\n",
       "      <th>4</th>\n",
       "      <td>29891</td>\n",
       "      <td>Love and compassion are the mother and father ...</td>\n",
       "      <td>Steve Maraboli,  Life, the Truth, and Being Free</td>\n",
       "      <td>['compassion', 'happiness', 'inspirational', '...</td>\n",
       "      <td>0.000065</td>\n",
       "      <td>inspiration</td>\n",
       "      <td>1</td>\n",
       "    </tr>\n",
       "  </tbody>\n",
       "</table>\n",
       "</div>"
      ],
      "text/plain": [
       "   Unnamed: 0                                              Quote  \\\n",
       "0       18479  If my favorite three letters are X, Z, and Q, ...   \n",
       "1       39562  S is for SCARY! Fear is driven out by action! ...   \n",
       "2       14022  What's the whole point of being pretty on the ...   \n",
       "3       13369  Let me never fall into the vulgar mistake of d...   \n",
       "4       29891  Love and compassion are the mother and father ...   \n",
       "\n",
       "                                              Author  \\\n",
       "0                            Jarod Kintz,  Xazaqazax   \n",
       "1  Lucas Remmerswaal,  The A-Z of 13 Habits: Insp...   \n",
       "2                         Jess C. Scott,  I'm Pretty   \n",
       "3      Ralph Waldo Emerson,  Emerson in His Journals   \n",
       "4   Steve Maraboli,  Life, the Truth, and Being Free   \n",
       "\n",
       "                                                Tags  Popularity     Category  \\\n",
       "0  ['absurd', 'favorite-letters', 'humor', 'langu...    0.000257         love   \n",
       "1  ['action', 'attitude', 'fear', 'habits', 'insp...    0.000010  inspiration   \n",
       "2  ['celebrity', 'celebrity-culture', 'celebrity-...    0.000436        humor   \n",
       "3  ['contradiction', 'correcting', 'correction', ...    0.000492  inspiration   \n",
       "4  ['compassion', 'happiness', 'inspirational', '...    0.000065  inspiration   \n",
       "\n",
       "   cat_lab  \n",
       "0        3  \n",
       "1        1  \n",
       "2        0  \n",
       "3        1  \n",
       "4        1  "
      ]
     },
     "metadata": {},
     "execution_count": 50
    }
   ],
   "metadata": {}
  },
  {
   "cell_type": "code",
   "execution_count": 52,
   "source": [
    "df = df[['Quote','cat_lab']]"
   ],
   "outputs": [],
   "metadata": {}
  },
  {
   "cell_type": "code",
   "execution_count": 53,
   "source": [
    "df.head()"
   ],
   "outputs": [
    {
     "output_type": "execute_result",
     "data": {
      "text/html": [
       "<div>\n",
       "<style scoped>\n",
       "    .dataframe tbody tr th:only-of-type {\n",
       "        vertical-align: middle;\n",
       "    }\n",
       "\n",
       "    .dataframe tbody tr th {\n",
       "        vertical-align: top;\n",
       "    }\n",
       "\n",
       "    .dataframe thead th {\n",
       "        text-align: right;\n",
       "    }\n",
       "</style>\n",
       "<table border=\"1\" class=\"dataframe\">\n",
       "  <thead>\n",
       "    <tr style=\"text-align: right;\">\n",
       "      <th></th>\n",
       "      <th>Quote</th>\n",
       "      <th>cat_lab</th>\n",
       "    </tr>\n",
       "  </thead>\n",
       "  <tbody>\n",
       "    <tr>\n",
       "      <th>0</th>\n",
       "      <td>If my favorite three letters are X, Z, and Q, ...</td>\n",
       "      <td>3</td>\n",
       "    </tr>\n",
       "    <tr>\n",
       "      <th>1</th>\n",
       "      <td>S is for SCARY! Fear is driven out by action! ...</td>\n",
       "      <td>1</td>\n",
       "    </tr>\n",
       "    <tr>\n",
       "      <th>2</th>\n",
       "      <td>What's the whole point of being pretty on the ...</td>\n",
       "      <td>0</td>\n",
       "    </tr>\n",
       "    <tr>\n",
       "      <th>3</th>\n",
       "      <td>Let me never fall into the vulgar mistake of d...</td>\n",
       "      <td>1</td>\n",
       "    </tr>\n",
       "    <tr>\n",
       "      <th>4</th>\n",
       "      <td>Love and compassion are the mother and father ...</td>\n",
       "      <td>1</td>\n",
       "    </tr>\n",
       "  </tbody>\n",
       "</table>\n",
       "</div>"
      ],
      "text/plain": [
       "                                               Quote  cat_lab\n",
       "0  If my favorite three letters are X, Z, and Q, ...        3\n",
       "1  S is for SCARY! Fear is driven out by action! ...        1\n",
       "2  What's the whole point of being pretty on the ...        0\n",
       "3  Let me never fall into the vulgar mistake of d...        1\n",
       "4  Love and compassion are the mother and father ...        1"
      ]
     },
     "metadata": {},
     "execution_count": 53
    }
   ],
   "metadata": {}
  },
  {
   "cell_type": "code",
   "execution_count": 41,
   "source": [
    "\r\n"
   ],
   "outputs": [],
   "metadata": {}
  },
  {
   "cell_type": "code",
   "execution_count": 42,
   "source": [
    "df['cat_lab']=le.fit_transform(df['category'])"
   ],
   "outputs": [],
   "metadata": {}
  },
  {
   "cell_type": "code",
   "execution_count": 56,
   "source": [
    "df.head()"
   ],
   "outputs": [
    {
     "output_type": "execute_result",
     "data": {
      "text/html": [
       "<div>\n",
       "<style scoped>\n",
       "    .dataframe tbody tr th:only-of-type {\n",
       "        vertical-align: middle;\n",
       "    }\n",
       "\n",
       "    .dataframe tbody tr th {\n",
       "        vertical-align: top;\n",
       "    }\n",
       "\n",
       "    .dataframe thead th {\n",
       "        text-align: right;\n",
       "    }\n",
       "</style>\n",
       "<table border=\"1\" class=\"dataframe\">\n",
       "  <thead>\n",
       "    <tr style=\"text-align: right;\">\n",
       "      <th></th>\n",
       "      <th>Quote</th>\n",
       "      <th>cat_lab</th>\n",
       "    </tr>\n",
       "  </thead>\n",
       "  <tbody>\n",
       "    <tr>\n",
       "      <th>0</th>\n",
       "      <td>If my favorite three letters are X, Z, and Q, ...</td>\n",
       "      <td>3</td>\n",
       "    </tr>\n",
       "    <tr>\n",
       "      <th>1</th>\n",
       "      <td>S is for SCARY! Fear is driven out by action! ...</td>\n",
       "      <td>1</td>\n",
       "    </tr>\n",
       "    <tr>\n",
       "      <th>2</th>\n",
       "      <td>What's the whole point of being pretty on the ...</td>\n",
       "      <td>0</td>\n",
       "    </tr>\n",
       "    <tr>\n",
       "      <th>3</th>\n",
       "      <td>Let me never fall into the vulgar mistake of d...</td>\n",
       "      <td>1</td>\n",
       "    </tr>\n",
       "    <tr>\n",
       "      <th>4</th>\n",
       "      <td>Love and compassion are the mother and father ...</td>\n",
       "      <td>1</td>\n",
       "    </tr>\n",
       "  </tbody>\n",
       "</table>\n",
       "</div>"
      ],
      "text/plain": [
       "                                               Quote  cat_lab\n",
       "0  If my favorite three letters are X, Z, and Q, ...        3\n",
       "1  S is for SCARY! Fear is driven out by action! ...        1\n",
       "2  What's the whole point of being pretty on the ...        0\n",
       "3  Let me never fall into the vulgar mistake of d...        1\n",
       "4  Love and compassion are the mother and father ...        1"
      ]
     },
     "metadata": {},
     "execution_count": 56
    }
   ],
   "metadata": {}
  },
  {
   "cell_type": "code",
   "execution_count": 55,
   "source": [
    "df.to_csv('final_data.csv')"
   ],
   "outputs": [],
   "metadata": {}
  },
  {
   "cell_type": "code",
   "execution_count": 54,
   "source": [
    "le.classes_"
   ],
   "outputs": [
    {
     "output_type": "execute_result",
     "data": {
      "text/plain": [
       "array(['humor', 'inspiration', 'life', 'love'], dtype=object)"
      ]
     },
     "metadata": {},
     "execution_count": 54
    }
   ],
   "metadata": {}
  },
  {
   "cell_type": "code",
   "execution_count": 76,
   "source": [
    "df = pd.read_csv('final_data.csv',encoding='utf-8')"
   ],
   "outputs": [],
   "metadata": {}
  },
  {
   "cell_type": "code",
   "execution_count": 82,
   "source": [
    "with open(\"train.txt\",'w',encoding = 'utf-8') as f:\r\n",
    "    for x in range(len(df)):\r\n",
    "        text = f\"Category: {df['Category'].iloc[x]}\\nQuote: {df['Quote'].iloc[x]}\\n###\\n\"\r\n",
    "        f.write(text)\r\n",
    "\r\n",
    "    print(text)\r\n",
    "#     file = open(\"sample.txt\", \"w\")\r\n",
    "#     file.write(text)\r\n",
    "# file.close()"
   ],
   "outputs": [
    {
     "output_type": "stream",
     "name": "stdout",
     "text": [
      "Category: inspiration\n",
      "Quote: You have a unique gift to offer this world. Be true to yourself, be kind to yourself, read and learn about everything that interests you and keep away from people who bring you down. When you treat yourself kindly and respect the uniqueness of those around you, you will be giving this world an amazing gift... YOU!\n",
      "###\n",
      "\n"
     ]
    }
   ],
   "metadata": {}
  },
  {
   "cell_type": "code",
   "execution_count": null,
   "source": [],
   "outputs": [],
   "metadata": {}
  }
 ],
 "metadata": {
  "orig_nbformat": 4,
  "language_info": {
   "name": "python",
   "version": "3.7.4",
   "mimetype": "text/x-python",
   "codemirror_mode": {
    "name": "ipython",
    "version": 3
   },
   "pygments_lexer": "ipython3",
   "nbconvert_exporter": "python",
   "file_extension": ".py"
  },
  "kernelspec": {
   "name": "python3",
   "display_name": "Python 3.7.4 64-bit"
  },
  "interpreter": {
   "hash": "04635d289a519a1410467dd0afb0db42f9184808881ca68b2eb5a687a20a5a94"
  }
 },
 "nbformat": 4,
 "nbformat_minor": 2
}